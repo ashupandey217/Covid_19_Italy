{
  "nbformat": 4,
  "nbformat_minor": 0,
  "metadata": {
    "colab": {
      "name": "Covid_19_Italy.ipynb",
      "provenance": [],
      "collapsed_sections": [],
      "authorship_tag": "ABX9TyO6xbrwBNjnx2NPQyE8d3aN",
      "include_colab_link": true
    },
    "kernelspec": {
      "name": "python3",
      "display_name": "Python 3"
    },
    "language_info": {
      "name": "python"
    }
  },
  "cells": [
    {
      "cell_type": "markdown",
      "metadata": {
        "id": "view-in-github",
        "colab_type": "text"
      },
      "source": [
        "<a href=\"https://colab.research.google.com/github/ashupandey217/Covid_19_Italy/blob/main/Covid_19_Italy.ipynb\" target=\"_parent\"><img src=\"https://colab.research.google.com/assets/colab-badge.svg\" alt=\"Open In Colab\"/></a>"
      ]
    },
    {
      "cell_type": "code",
      "metadata": {
        "id": "1xoO2h927Qte"
      },
      "source": [
        "import pandas as pd\n",
        "import numpy as np\n",
        "import seaborn as sns\n",
        "import matplotlib.pyplot as plt"
      ],
      "execution_count": null,
      "outputs": []
    },
    {
      "cell_type": "code",
      "metadata": {
        "id": "antAdJlX8s3c"
      },
      "source": [
        "data = pd.read_csv(\"/content/covid19_italy_region.csv\")"
      ],
      "execution_count": null,
      "outputs": []
    },
    {
      "cell_type": "code",
      "metadata": {
        "id": "--8kxjMo81qs"
      },
      "source": [
        "data"
      ],
      "execution_count": null,
      "outputs": []
    },
    {
      "cell_type": "code",
      "metadata": {
        "id": "LKGTJE9j892t"
      },
      "source": [
        "data.head()"
      ],
      "execution_count": null,
      "outputs": []
    },
    {
      "cell_type": "code",
      "metadata": {
        "id": "odabg_tw9BZj"
      },
      "source": [
        "data.tail()"
      ],
      "execution_count": null,
      "outputs": []
    },
    {
      "cell_type": "code",
      "metadata": {
        "id": "0S5O8PZ-9EK8"
      },
      "source": [
        "data.describe()"
      ],
      "execution_count": null,
      "outputs": []
    },
    {
      "cell_type": "code",
      "metadata": {
        "id": "EwderG9W9Jbu"
      },
      "source": [
        "data.isnull().sum()"
      ],
      "execution_count": null,
      "outputs": []
    },
    {
      "cell_type": "code",
      "metadata": {
        "colab": {
          "base_uri": "https://localhost:8080/"
        },
        "id": "6wC9HI8g9cZY",
        "outputId": "036cff83-39fa-439e-e81f-c0b3c9fa4aa6"
      },
      "source": [
        "data.columns\n"
      ],
      "execution_count": null,
      "outputs": [
        {
          "output_type": "execute_result",
          "data": {
            "text/plain": [
              "Index(['SNo', 'Date', 'Country', 'RegionCode', 'RegionName', 'Latitude',\n",
              "       'Longitude', 'HospitalizedPatients', 'IntensiveCarePatients',\n",
              "       'TotalHospitalizedPatients', 'HomeConfinement', 'CurrentPositiveCases',\n",
              "       'NewPositiveCases', 'Recovered', 'Deaths', 'TotalPositiveCases',\n",
              "       'TestsPerformed'],\n",
              "      dtype='object')"
            ]
          },
          "metadata": {
            "tags": []
          },
          "execution_count": 9
        }
      ]
    },
    {
      "cell_type": "markdown",
      "metadata": {
        "id": "TO2LqICd9OPj"
      },
      "source": [
        "**Relation between different variables :**"
      ]
    },
    {
      "cell_type": "code",
      "metadata": {
        "id": "BIQsbKth9ZER"
      },
      "source": [
        "sns.relplot(x=\"Recovered\",y=\"TotalPositiveCases\",data=data)"
      ],
      "execution_count": null,
      "outputs": []
    },
    {
      "cell_type": "code",
      "metadata": {
        "id": "6mhIAzZK9-N6"
      },
      "source": [
        "sns.pairplot(data)"
      ],
      "execution_count": null,
      "outputs": []
    }
  ]
}